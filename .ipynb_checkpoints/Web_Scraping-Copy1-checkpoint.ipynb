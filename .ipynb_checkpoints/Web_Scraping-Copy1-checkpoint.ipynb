{
 "cells": [
  {
   "cell_type": "code",
   "execution_count": 1,
   "metadata": {},
   "outputs": [],
   "source": [
    "import pandas as pd\n",
    "import numpy as np\n",
    "from IPython.core.interactiveshell import InteractiveShell\n",
    "InteractiveShell.ast_node_interactivity = \"all\""
   ]
  },
  {
   "cell_type": "markdown",
   "metadata": {},
   "source": [
    "The following document is from the open data of the Department of Conservation (DOC) in New Zealand. As seen below, it provides 3,262 unique trail names with global positioning"
   ]
  },
  {
   "cell_type": "code",
   "execution_count": 2,
   "metadata": {},
   "outputs": [
    {
     "data": {
      "text/html": [
       "<div>\n",
       "<style scoped>\n",
       "    .dataframe tbody tr th:only-of-type {\n",
       "        vertical-align: middle;\n",
       "    }\n",
       "\n",
       "    .dataframe tbody tr th {\n",
       "        vertical-align: top;\n",
       "    }\n",
       "\n",
       "    .dataframe thead th {\n",
       "        text-align: right;\n",
       "    }\n",
       "</style>\n",
       "<table border=\"1\" class=\"dataframe\">\n",
       "  <thead>\n",
       "    <tr style=\"text-align: right;\">\n",
       "      <th></th>\n",
       "      <th>OBJECTID</th>\n",
       "      <th>CAPTURE_ACCURACY</th>\n",
       "      <th>EQUIPMENT</th>\n",
       "      <th>DESCRIPTION</th>\n",
       "      <th>STATUS</th>\n",
       "      <th>OBJECT_TYPE_DESCRIPTION</th>\n",
       "      <th>GlobalID</th>\n",
       "      <th>SHAPE_Length</th>\n",
       "    </tr>\n",
       "  </thead>\n",
       "  <tbody>\n",
       "    <tr>\n",
       "      <th>0</th>\n",
       "      <td>521495</td>\n",
       "      <td>2.0</td>\n",
       "      <td>100044818</td>\n",
       "      <td>TAUHERENIKAU GORGE TRACK</td>\n",
       "      <td>OPEN</td>\n",
       "      <td>Tramping Track</td>\n",
       "      <td>{3AAF81F3-73B3-4F88-A796-17B07DFF1A81}</td>\n",
       "      <td>2310.732688</td>\n",
       "    </tr>\n",
       "    <tr>\n",
       "      <th>1</th>\n",
       "      <td>521496</td>\n",
       "      <td>2.0</td>\n",
       "      <td>100044819</td>\n",
       "      <td>MOUNT HOLDSWORTH TO JUMBO HUT</td>\n",
       "      <td>OPEN</td>\n",
       "      <td>Easy Tramping Track</td>\n",
       "      <td>{E84ABC5A-4EBE-4AE8-859E-48D9292A851E}</td>\n",
       "      <td>3761.813276</td>\n",
       "    </tr>\n",
       "    <tr>\n",
       "      <th>2</th>\n",
       "      <td>521497</td>\n",
       "      <td>2.0</td>\n",
       "      <td>100044820</td>\n",
       "      <td>RAINGAUGE SPUR</td>\n",
       "      <td>OPEN</td>\n",
       "      <td>Easy Tramping Track</td>\n",
       "      <td>{83173518-A632-4A4D-8076-092A7851298F}</td>\n",
       "      <td>2129.463229</td>\n",
       "    </tr>\n",
       "    <tr>\n",
       "      <th>3</th>\n",
       "      <td>521498</td>\n",
       "      <td>2.0</td>\n",
       "      <td>100044821</td>\n",
       "      <td>BARRA TRACK - THE PINES TO BLAKE STREAM</td>\n",
       "      <td>OPEN</td>\n",
       "      <td>Tramping Track</td>\n",
       "      <td>{96C9A611-59BA-4A5B-AD9B-ACAC7F3AC152}</td>\n",
       "      <td>2046.447855</td>\n",
       "    </tr>\n",
       "    <tr>\n",
       "      <th>4</th>\n",
       "      <td>521499</td>\n",
       "      <td>2.0</td>\n",
       "      <td>100044822</td>\n",
       "      <td>EAST HOLDSWORTH TRACK</td>\n",
       "      <td>OPEN</td>\n",
       "      <td>Tramping Track</td>\n",
       "      <td>{E460CE11-526E-4DF0-99BF-9BF5EB00D38F}</td>\n",
       "      <td>3508.240620</td>\n",
       "    </tr>\n",
       "  </tbody>\n",
       "</table>\n",
       "</div>"
      ],
      "text/plain": [
       "   OBJECTID  CAPTURE_ACCURACY  EQUIPMENT  \\\n",
       "0    521495               2.0  100044818   \n",
       "1    521496               2.0  100044819   \n",
       "2    521497               2.0  100044820   \n",
       "3    521498               2.0  100044821   \n",
       "4    521499               2.0  100044822   \n",
       "\n",
       "                               DESCRIPTION STATUS OBJECT_TYPE_DESCRIPTION  \\\n",
       "0                 TAUHERENIKAU GORGE TRACK   OPEN          Tramping Track   \n",
       "1            MOUNT HOLDSWORTH TO JUMBO HUT   OPEN     Easy Tramping Track   \n",
       "2                           RAINGAUGE SPUR   OPEN     Easy Tramping Track   \n",
       "3  BARRA TRACK - THE PINES TO BLAKE STREAM   OPEN          Tramping Track   \n",
       "4                    EAST HOLDSWORTH TRACK   OPEN          Tramping Track   \n",
       "\n",
       "                                 GlobalID  SHAPE_Length  \n",
       "0  {3AAF81F3-73B3-4F88-A796-17B07DFF1A81}   2310.732688  \n",
       "1  {E84ABC5A-4EBE-4AE8-859E-48D9292A851E}   3761.813276  \n",
       "2  {83173518-A632-4A4D-8076-092A7851298F}   2129.463229  \n",
       "3  {96C9A611-59BA-4A5B-AD9B-ACAC7F3AC152}   2046.447855  \n",
       "4  {E460CE11-526E-4DF0-99BF-9BF5EB00D38F}   3508.240620  "
      ]
     },
     "execution_count": 2,
     "metadata": {},
     "output_type": "execute_result"
    },
    {
     "data": {
      "text/plain": [
       "(3262, 8)"
      ]
     },
     "execution_count": 2,
     "metadata": {},
     "output_type": "execute_result"
    },
    {
     "name": "stdout",
     "output_type": "stream",
     "text": [
      "<class 'pandas.core.frame.DataFrame'>\n",
      "RangeIndex: 3262 entries, 0 to 3261\n",
      "Data columns (total 8 columns):\n",
      " #   Column                   Non-Null Count  Dtype  \n",
      "---  ------                   --------------  -----  \n",
      " 0   OBJECTID                 3262 non-null   int64  \n",
      " 1   CAPTURE_ACCURACY         3260 non-null   float64\n",
      " 2   EQUIPMENT                3262 non-null   int64  \n",
      " 3   DESCRIPTION              3262 non-null   object \n",
      " 4   STATUS                   3262 non-null   object \n",
      " 5   OBJECT_TYPE_DESCRIPTION  3262 non-null   object \n",
      " 6   GlobalID                 3262 non-null   object \n",
      " 7   SHAPE_Length             3262 non-null   float64\n",
      "dtypes: float64(2), int64(2), object(4)\n",
      "memory usage: 204.0+ KB\n"
     ]
    }
   ],
   "source": [
    "doc = pd.read_csv('data/DOC_Tracks.csv')\n",
    "doc.head()\n",
    "doc.shape\n",
    "doc.info()"
   ]
  },
  {
   "cell_type": "markdown",
   "metadata": {},
   "source": [
    "Need some trail information for these tracks!"
   ]
  },
  {
   "cell_type": "code",
   "execution_count": 98,
   "metadata": {},
   "outputs": [
    {
     "data": {
      "text/html": [
       "<div>\n",
       "<style scoped>\n",
       "    .dataframe tbody tr th:only-of-type {\n",
       "        vertical-align: middle;\n",
       "    }\n",
       "\n",
       "    .dataframe tbody tr th {\n",
       "        vertical-align: top;\n",
       "    }\n",
       "\n",
       "    .dataframe thead th {\n",
       "        text-align: right;\n",
       "    }\n",
       "</style>\n",
       "<table border=\"1\" class=\"dataframe\">\n",
       "  <thead>\n",
       "    <tr style=\"text-align: right;\">\n",
       "      <th></th>\n",
       "      <th>name</th>\n",
       "      <th>type</th>\n",
       "      <th>time_h</th>\n",
       "      <th>length_km</th>\n",
       "      <th>lng</th>\n",
       "      <th>lat</th>\n",
       "      <th>url</th>\n",
       "    </tr>\n",
       "  </thead>\n",
       "  <tbody>\n",
       "    <tr>\n",
       "      <th>0</th>\n",
       "      <td>L. Wairoa Road End to Barrys Flat</td>\n",
       "      <td>Tramping Track</td>\n",
       "      <td>11.650000</td>\n",
       "      <td>11.51</td>\n",
       "      <td>173.096578</td>\n",
       "      <td>-41.494357</td>\n",
       "      <td>-l-wairoa-road-end-to-barrys-flat</td>\n",
       "    </tr>\n",
       "    <tr>\n",
       "      <th>1</th>\n",
       "      <td>Ngatuhoa Stream Track</td>\n",
       "      <td>Tramping Track</td>\n",
       "      <td>2.716667</td>\n",
       "      <td>6.45</td>\n",
       "      <td>176.006116</td>\n",
       "      <td>-37.927966</td>\n",
       "      <td>-ngatuhoa-stream-track</td>\n",
       "    </tr>\n",
       "    <tr>\n",
       "      <th>2</th>\n",
       "      <td>(coastal) Smoothwater-staffordhut Route</td>\n",
       "      <td>Route</td>\n",
       "      <td>21.133333</td>\n",
       "      <td>5.84</td>\n",
       "      <td>168.594405</td>\n",
       "      <td>-43.975153</td>\n",
       "      <td>-coastal-smoothwaterstaffordhut-route</td>\n",
       "    </tr>\n",
       "    <tr>\n",
       "      <th>3</th>\n",
       "      <td>(inland) Smoothwater-staffordhut Route</td>\n",
       "      <td>Route</td>\n",
       "      <td>2.983333</td>\n",
       "      <td>6.99</td>\n",
       "      <td>168.545144</td>\n",
       "      <td>-43.996206</td>\n",
       "      <td>-inland-smoothwaterstaffordhut-route</td>\n",
       "    </tr>\n",
       "    <tr>\n",
       "      <th>4</th>\n",
       "      <td>1000 Acres (1000 Ac Jcn to Pp Hut)</td>\n",
       "      <td>Tramping Track</td>\n",
       "      <td>23.100000</td>\n",
       "      <td>4.42</td>\n",
       "      <td>172.331671</td>\n",
       "      <td>-41.649679</td>\n",
       "      <td>1000-acres-1000-ac-jcn-to-pp-hut</td>\n",
       "    </tr>\n",
       "  </tbody>\n",
       "</table>\n",
       "</div>"
      ],
      "text/plain": [
       "                                      name            type     time_h  \\\n",
       "0        L. Wairoa Road End to Barrys Flat  Tramping Track  11.650000   \n",
       "1                    Ngatuhoa Stream Track  Tramping Track   2.716667   \n",
       "2  (coastal) Smoothwater-staffordhut Route           Route  21.133333   \n",
       "3   (inland) Smoothwater-staffordhut Route           Route   2.983333   \n",
       "4       1000 Acres (1000 Ac Jcn to Pp Hut)  Tramping Track  23.100000   \n",
       "\n",
       "   length_km         lng        lat                                    url  \n",
       "0      11.51  173.096578 -41.494357      -l-wairoa-road-end-to-barrys-flat  \n",
       "1       6.45  176.006116 -37.927966                 -ngatuhoa-stream-track  \n",
       "2       5.84  168.594405 -43.975153  -coastal-smoothwaterstaffordhut-route  \n",
       "3       6.99  168.545144 -43.996206   -inland-smoothwaterstaffordhut-route  \n",
       "4       4.42  172.331671 -41.649679       1000-acres-1000-ac-jcn-to-pp-hut  "
      ]
     },
     "execution_count": 98,
     "metadata": {},
     "output_type": "execute_result"
    },
    {
     "name": "stdout",
     "output_type": "stream",
     "text": [
      "['-l-wairoa-road-end-to-barrys-flat', '-ngatuhoa-stream-track', '-coastal-smoothwaterstaffordhut-route', '-inland-smoothwaterstaffordhut-route', '1000-acres-1000-ac-jcn-to-pp-hut']\n"
     ]
    }
   ],
   "source": [
    "df = pd.read_csv('data/WalkingKiwi_Tracks.csv', index_col=0)\n",
    "df.head()\n",
    "track_urls = df.url.tolist()\n",
    "print(track_urls[:5])"
   ]
  },
  {
   "cell_type": "code",
   "execution_count": 139,
   "metadata": {},
   "outputs": [],
   "source": [
    "maxElevation = []\n",
    "length = []\n",
    "route_type = []\n",
    "totalAscent = []\n",
    "duration = []"
   ]
  },
  {
   "cell_type": "code",
   "execution_count": 140,
   "metadata": {
    "scrolled": true
   },
   "outputs": [],
   "source": [
    "def scrape_hikes(track_urls):\n",
    "    for url in track_urls:\n",
    "        URL = 'https://walkingkiwi.co.nz/track/' + str(url)\n",
    "        session = requests.Session()\n",
    "        page = session.get(URL, stream=True)\n",
    "        soup = BeautifulSoup(page.content, 'html.parser')\n",
    "        #print(soup.prettify())\n",
    "        data = soup.find('div', {'class':\"content-box\", 'id':\"graph-container\"})\n",
    "        children = data.findChildren('div', {'class':\"stat-text\"})\n",
    "        content = []\n",
    "        for child in children:\n",
    "            child = str(child)\n",
    "            child = child.replace('<div class=\"stat-text\">\\n','')\n",
    "            child = child.replace('                    ','')\n",
    "            child = child.replace('\\n<!-- ',';')\n",
    "            child = child.replace(' (',';')\n",
    "            child = child.replace(') -->\\n</div>','')\n",
    "            child = child.split(';')\n",
    "            content.append(child)\n",
    "    \n",
    "        maxElevation.append(content[0][0])\n",
    "        length.append(content[0][1])\n",
    "        route_type.append(content[0][2])\n",
    "        totalAscent.append(content[1][0])\n",
    "        duration.append(content[1][1])\n",
    "    print('Scrape Completed. Lists Appended.')"
   ]
  },
  {
   "cell_type": "code",
   "execution_count": 748,
   "metadata": {},
   "outputs": [],
   "source": [
    "maxElevation.append('nochildren?')\n",
    "length.append('nochildren?')\n",
    "route_type.append('nochildren?')\n",
    "totalAscent.append('nochildren?')\n",
    "duration.append('nochildren?')"
   ]
  },
  {
   "cell_type": "code",
   "execution_count": 749,
   "metadata": {},
   "outputs": [
    {
     "data": {
      "text/plain": [
       "4.75"
      ]
     },
     "execution_count": 749,
     "metadata": {},
     "output_type": "execute_result"
    }
   ],
   "source": [
    "df.length_km[len(length)-1]"
   ]
  },
  {
   "cell_type": "code",
   "execution_count": 750,
   "metadata": {},
   "outputs": [
    {
     "data": {
      "text/plain": [
       "1216"
      ]
     },
     "execution_count": 750,
     "metadata": {},
     "output_type": "execute_result"
    },
    {
     "data": {
      "text/plain": [
       "'nochildren?'"
      ]
     },
     "execution_count": 750,
     "metadata": {},
     "output_type": "execute_result"
    }
   ],
   "source": [
    "len(length)\n",
    "length[-1]"
   ]
  },
  {
   "cell_type": "code",
   "execution_count": 751,
   "metadata": {},
   "outputs": [
    {
     "ename": "AttributeError",
     "evalue": "'NoneType' object has no attribute 'findChildren'",
     "output_type": "error",
     "traceback": [
      "\u001b[1;31m---------------------------------------------------------------------------\u001b[0m",
      "\u001b[1;31mAttributeError\u001b[0m                            Traceback (most recent call last)",
      "\u001b[1;32m<timed eval>\u001b[0m in \u001b[0;36m<module>\u001b[1;34m\u001b[0m\n",
      "\u001b[1;32m<ipython-input-140-5e67854d9458>\u001b[0m in \u001b[0;36mscrape_hikes\u001b[1;34m(track_urls)\u001b[0m\n\u001b[0;32m      7\u001b[0m         \u001b[1;31m#print(soup.prettify())\u001b[0m\u001b[1;33m\u001b[0m\u001b[1;33m\u001b[0m\u001b[1;33m\u001b[0m\u001b[0m\n\u001b[0;32m      8\u001b[0m         \u001b[0mdata\u001b[0m \u001b[1;33m=\u001b[0m \u001b[0msoup\u001b[0m\u001b[1;33m.\u001b[0m\u001b[0mfind\u001b[0m\u001b[1;33m(\u001b[0m\u001b[1;34m'div'\u001b[0m\u001b[1;33m,\u001b[0m \u001b[1;33m{\u001b[0m\u001b[1;34m'class'\u001b[0m\u001b[1;33m:\u001b[0m\u001b[1;34m\"content-box\"\u001b[0m\u001b[1;33m,\u001b[0m \u001b[1;34m'id'\u001b[0m\u001b[1;33m:\u001b[0m\u001b[1;34m\"graph-container\"\u001b[0m\u001b[1;33m}\u001b[0m\u001b[1;33m)\u001b[0m\u001b[1;33m\u001b[0m\u001b[1;33m\u001b[0m\u001b[0m\n\u001b[1;32m----> 9\u001b[1;33m         \u001b[0mchildren\u001b[0m \u001b[1;33m=\u001b[0m \u001b[0mdata\u001b[0m\u001b[1;33m.\u001b[0m\u001b[0mfindChildren\u001b[0m\u001b[1;33m(\u001b[0m\u001b[1;34m'div'\u001b[0m\u001b[1;33m,\u001b[0m \u001b[1;33m{\u001b[0m\u001b[1;34m'class'\u001b[0m\u001b[1;33m:\u001b[0m\u001b[1;34m\"stat-text\"\u001b[0m\u001b[1;33m}\u001b[0m\u001b[1;33m)\u001b[0m\u001b[1;33m\u001b[0m\u001b[1;33m\u001b[0m\u001b[0m\n\u001b[0m\u001b[0;32m     10\u001b[0m         \u001b[0mcontent\u001b[0m \u001b[1;33m=\u001b[0m \u001b[1;33m[\u001b[0m\u001b[1;33m]\u001b[0m\u001b[1;33m\u001b[0m\u001b[1;33m\u001b[0m\u001b[0m\n\u001b[0;32m     11\u001b[0m         \u001b[1;32mfor\u001b[0m \u001b[0mchild\u001b[0m \u001b[1;32min\u001b[0m \u001b[0mchildren\u001b[0m\u001b[1;33m:\u001b[0m\u001b[1;33m\u001b[0m\u001b[1;33m\u001b[0m\u001b[0m\n",
      "\u001b[1;31mAttributeError\u001b[0m: 'NoneType' object has no attribute 'findChildren'"
     ]
    }
   ],
   "source": [
    "%%time\n",
    "scrape_hikes(track_urls[len(length):])"
   ]
  },
  {
   "cell_type": "code",
   "execution_count": null,
   "metadata": {},
   "outputs": [],
   "source": []
  },
  {
   "cell_type": "code",
   "execution_count": null,
   "metadata": {},
   "outputs": [],
   "source": []
  },
  {
   "cell_type": "code",
   "execution_count": 121,
   "metadata": {},
   "outputs": [],
   "source": [
    "import cchardet\n",
    "import lxml\n",
    "import time"
   ]
  },
  {
   "cell_type": "code",
   "execution_count": null,
   "metadata": {},
   "outputs": [],
   "source": [
    "data = soup.find('div', {'class':\"content-box\", 'id':\"graph-container\"})\n",
    "        children = data.findChildren('div', {'class':\"stat-text\"})\n",
    "        content = []\n",
    "        for child in children:\n",
    "            child = str(child)\n",
    "            child = child.replace('<div class=\"stat-text\">\\n','')\n",
    "            child = child.replace('                    ','')\n",
    "            child = child.replace('\\n<!-- ',';')\n",
    "            child = child.replace(' (',';')\n",
    "            child = child.replace(') -->\\n</div>','')\n",
    "            child = child.split(';')\n",
    "            content.append(child)\n",
    "    \n",
    "        maxElevation.append(content[0][0])\n",
    "        length.append(content[0][1])\n",
    "        route_type.append(content[0][2])\n",
    "        totalAscent.append(content[1][0])\n",
    "        duration.append(content[1][1])\n",
    "    print('Scrape Completed. Lists Appended.')"
   ]
  }
 ],
 "metadata": {
  "kernelspec": {
   "display_name": "Python 3",
   "language": "python",
   "name": "python3"
  },
  "language_info": {
   "codemirror_mode": {
    "name": "ipython",
    "version": 3
   },
   "file_extension": ".py",
   "mimetype": "text/x-python",
   "name": "python",
   "nbconvert_exporter": "python",
   "pygments_lexer": "ipython3",
   "version": "3.8.5"
  }
 },
 "nbformat": 4,
 "nbformat_minor": 4
}
